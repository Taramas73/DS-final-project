{
 "cells": [
  {
   "cell_type": "code",
   "execution_count": 1,
   "metadata": {},
   "outputs": [
    {
     "name": "stderr",
     "output_type": "stream",
     "text": [
      "2025-04-05 17:05:42.996563: I tensorflow/core/platform/cpu_feature_guard.cc:193] This TensorFlow binary is optimized with oneAPI Deep Neural Network Library (oneDNN) to use the following CPU instructions in performance-critical operations:  AVX2 AVX512F AVX512_VNNI AVX512_BF16 FMA\n",
      "To enable them in other operations, rebuild TensorFlow with the appropriate compiler flags.\n",
      "2025-04-05 17:05:43.079797: I tensorflow/core/util/util.cc:169] oneDNN custom operations are on. You may see slightly different numerical results due to floating-point round-off errors from different computation orders. To turn them off, set the environment variable `TF_ENABLE_ONEDNN_OPTS=0`.\n",
      "2025-04-05 17:05:43.083879: W tensorflow/stream_executor/platform/default/dso_loader.cc:64] Could not load dynamic library 'libcudart.so.11.0'; dlerror: libcudart.so.11.0: cannot open shared object file: No such file or directory\n",
      "2025-04-05 17:05:43.083897: I tensorflow/stream_executor/cuda/cudart_stub.cc:29] Ignore above cudart dlerror if you do not have a GPU set up on your machine.\n",
      "2025-04-05 17:05:43.099774: E tensorflow/stream_executor/cuda/cuda_blas.cc:2981] Unable to register cuBLAS factory: Attempting to register factory for plugin cuBLAS when one has already been registered\n",
      "2025-04-05 17:05:43.545539: W tensorflow/stream_executor/platform/default/dso_loader.cc:64] Could not load dynamic library 'libnvinfer.so.7'; dlerror: libnvinfer.so.7: cannot open shared object file: No such file or directory\n",
      "2025-04-05 17:05:43.545617: W tensorflow/stream_executor/platform/default/dso_loader.cc:64] Could not load dynamic library 'libnvinfer_plugin.so.7'; dlerror: libnvinfer_plugin.so.7: cannot open shared object file: No such file or directory\n",
      "2025-04-05 17:05:43.545623: W tensorflow/compiler/tf2tensorrt/utils/py_utils.cc:38] TF-TRT Warning: Cannot dlopen some TensorRT libraries. If you would like to use Nvidia GPU with TensorRT, please make sure the missing libraries mentioned above are installed properly.\n"
     ]
    }
   ],
   "source": [
    "import matplotlib.pyplot as plt\n",
    "import numpy as np\n",
    "import json\n",
    "import tensorflow as tf\n",
    "from tensorflow.keras.layers import Conv2D, MaxPooling2D, Conv2DTranspose, Input, concatenate\n",
    "from tensorflow.keras.models import Model\n",
    "import numpy as np\n",
    "import cv2\n",
    "import os\n",
    "import matplotlib.pyplot as plt\n",
    "import plotly.express as px\n",
    "import pickle\n",
    "from tensorflow.keras.models import model_from_json\n",
    "from tensorflow.keras.models import load_model\n",
    "from mylib import load_image, load_mask, get_tf_dataset, dataset_generator, find_images_with_min_unique_values"
   ]
  },
  {
   "cell_type": "code",
   "execution_count": 2,
   "metadata": {},
   "outputs": [],
   "source": [
    "# 1️⃣ Load and Preprocess Data\n",
    "# Constants to define\n",
    "IMG_SIZE = (256, 256)\n",
    "TRAIN_DATASET_PATH = \"../dataset/train/\"\n",
    "TRAIN_IMAGES_PATH = os.path.join(TRAIN_DATASET_PATH, \"images\")\n",
    "TRAIN_MASKS_PATH = os.path.join(TRAIN_DATASET_PATH, \"targets\")  # Segmentation masks\n",
    "TRAIN_LABELS_PATH = os.path.join(TRAIN_DATASET_PATH, \"labels\")  # JSON labels\n",
    "\n",
    "TEST_DATASET_PATH = \"../dataset/test/\"\n",
    "TEST_IMAGES_PATH = os.path.join(TEST_DATASET_PATH, \"images\")\n",
    "TEST_MASKS_PATH = os.path.join(TEST_DATASET_PATH, \"targets\")  # Segmentation masks\n",
    "TEST_LABELS_PATH = os.path.join(TEST_DATASET_PATH, \"labels\")  # JSON labels\n",
    "\n",
    "BATCH_SIZE = 16  # Number of images to treat at once (Adjust depending on your RAM)\n",
    "BUFFER_SIZE = 2799  # Total number of images to load from dataset\n",
    "\n"
   ]
  },
  {
   "cell_type": "code",
   "execution_count": 3,
   "metadata": {},
   "outputs": [
    {
     "ename": "NameError",
     "evalue": "name 'IMG_SIZE' is not defined",
     "output_type": "error",
     "traceback": [
      "\u001b[0;31m---------------------------------------------------------------------------\u001b[0m",
      "\u001b[0;31mNameError\u001b[0m                                 Traceback (most recent call last)",
      "Cell \u001b[0;32mIn [3], line 3\u001b[0m\n\u001b[1;32m      1\u001b[0m \u001b[38;5;66;03m# Load and visualize a sample image and mask (mask is a 5-channel image with one-hot encoding)\u001b[39;00m\n\u001b[1;32m      2\u001b[0m a \u001b[38;5;241m=\u001b[39m load_mask(TRAIN_MASKS_PATH\u001b[38;5;241m+\u001b[39m\u001b[38;5;124m\"\u001b[39m\u001b[38;5;124m/hurricane-michael_00000486_post_disaster_target.png\u001b[39m\u001b[38;5;124m\"\u001b[39m)\n\u001b[0;32m----> 3\u001b[0m b \u001b[38;5;241m=\u001b[39m \u001b[43mload_image\u001b[49m\u001b[43m(\u001b[49m\u001b[43mTRAIN_IMAGES_PATH\u001b[49m\u001b[38;5;241;43m+\u001b[39;49m\u001b[38;5;124;43m\"\u001b[39;49m\u001b[38;5;124;43m/hurricane-michael_00000486_post_disaster.png\u001b[39;49m\u001b[38;5;124;43m\"\u001b[39;49m\u001b[43m)\u001b[49m\n\u001b[1;32m      4\u001b[0m \u001b[38;5;28mprint\u001b[39m(a\u001b[38;5;241m.\u001b[39mshape)\n\u001b[1;32m      5\u001b[0m plt\u001b[38;5;241m.\u001b[39msubplot(\u001b[38;5;241m321\u001b[39m)\n",
      "File \u001b[0;32m~/code/final_project/src/mylib/utils.py:20\u001b[0m, in \u001b[0;36mload_image\u001b[0;34m(image_path, verbose)\u001b[0m\n\u001b[1;32m     17\u001b[0m     \u001b[38;5;28mprint\u001b[39m(\u001b[38;5;124mf\u001b[39m\u001b[38;5;124m\"\u001b[39m\u001b[38;5;124m✅ Loaded image \u001b[39m\u001b[38;5;132;01m{\u001b[39;00mimage_path\u001b[38;5;132;01m}\u001b[39;00m\u001b[38;5;124m, Shape: \u001b[39m\u001b[38;5;132;01m{\u001b[39;00mimg\u001b[38;5;241m.\u001b[39mshape\u001b[38;5;132;01m}\u001b[39;00m\u001b[38;5;124m, Dtype: \u001b[39m\u001b[38;5;132;01m{\u001b[39;00mimg\u001b[38;5;241m.\u001b[39mdtype\u001b[38;5;132;01m}\u001b[39;00m\u001b[38;5;124m\"\u001b[39m)\n\u001b[1;32m     19\u001b[0m img \u001b[38;5;241m=\u001b[39m cv2\u001b[38;5;241m.\u001b[39mcvtColor(img, cv2\u001b[38;5;241m.\u001b[39mCOLOR_BGR2RGB)\n\u001b[0;32m---> 20\u001b[0m img \u001b[38;5;241m=\u001b[39m cv2\u001b[38;5;241m.\u001b[39mresize(img, \u001b[43mIMG_SIZE\u001b[49m) \u001b[38;5;241m/\u001b[39m \u001b[38;5;241m255.0\u001b[39m  \u001b[38;5;66;03m# Normalize\u001b[39;00m\n\u001b[1;32m     21\u001b[0m \u001b[38;5;28;01mreturn\u001b[39;00m img\n",
      "\u001b[0;31mNameError\u001b[0m: name 'IMG_SIZE' is not defined"
     ]
    }
   ],
   "source": [
    "# Load and visualize a sample image and mask (mask is a 5-channel image with one-hot encoding)\n",
    "a = load_mask(TRAIN_MASKS_PATH+\"/hurricane-michael_00000486_post_disaster_target.png\")\n",
    "b = load_image(TRAIN_IMAGES_PATH+\"/hurricane-michael_00000486_post_disaster.png\")\n",
    "print(a.shape)\n",
    "plt.subplot(321)\n",
    "plt.title(\"Post Disaster Image\")\n",
    "plt.imshow(b)\n",
    "plt.axis('off')\n",
    "plt.subplot(322)\n",
    "plt.title(\"Background pixels\")\n",
    "plt.imshow(a[:,:,0])\n",
    "plt.axis('off')\n",
    "plt.subplot(323)\n",
    "plt.title(\"No damage\")\n",
    "plt.imshow(a[:,:,1])\n",
    "plt.axis('off')\n",
    "plt.subplot(324)\n",
    "plt.title(\"Minor damage\")\n",
    "plt.imshow(a[:,:,2])\n",
    "plt.axis('off')\n",
    "plt.subplot(325)\n",
    "plt.title(\"Major damage\")\n",
    "plt.imshow(a[:,:,3])\n",
    "plt.axis('off')\n",
    "plt.subplot(326)\n",
    "plt.title(\"Destroyed\")\n",
    "plt.imshow(a[:,:,4])\n",
    "plt.axis('off')\n",
    "\n"
   ]
  },
  {
   "cell_type": "code",
   "execution_count": null,
   "metadata": {},
   "outputs": [],
   "source": []
  },
  {
   "cell_type": "code",
   "execution_count": 17,
   "metadata": {},
   "outputs": [],
   "source": [
    "# Create a list of the images and masks to load (here we use only the _pre_disaster images and then when needed we rename the list to _post_disaster)\n",
    "train_image_filenames = sorted([\n",
    "    f for f in os.listdir(TRAIN_IMAGES_PATH) \n",
    "    if \"_pre_disaster.png\" in f and not f.startswith(\".\") and \":Zone.Identifier\" not in f # Exclude Windows Zone Identifier files\n",
    "])\n",
    "\n",
    "test_image_filenames = sorted([\n",
    "    f for f in os.listdir(TEST_IMAGES_PATH) \n",
    "    if \"_pre_disaster.png\" in f and not f.startswith(\".\") and \":Zone.Identifier\" not in f\n",
    "])\n",
    "\n",
    "# Get datasets\n",
    "train_dataset = get_tf_dataset(train_image_filenames, TRAIN_IMAGES_PATH, TRAIN_MASKS_PATH, BATCH_SIZE)\n",
    "test_dataset = get_tf_dataset(test_image_filenames, TEST_IMAGES_PATH, TEST_MASKS_PATH, BATCH_SIZE)"
   ]
  },
  {
   "cell_type": "code",
   "execution_count": 18,
   "metadata": {},
   "outputs": [],
   "source": [
    "\n",
    "# 2️⃣ Define U-Net Model\n",
    "def unet_model(input_shape=(256, 256, 6), num_classes=5):\n",
    "    inputs = Input(input_shape)\n",
    "\n",
    "    # Encoder\n",
    "    c1 = Conv2D(64, (3,3), activation='relu', padding='same')(inputs)\n",
    "    c1 = Conv2D(64, (3,3), activation='relu', padding='same')(c1)\n",
    "    p1 = MaxPooling2D((2,2))(c1)\n",
    "\n",
    "    c2 = Conv2D(128, (3,3), activation='relu', padding='same')(p1)\n",
    "    c2 = Conv2D(128, (3,3), activation='relu', padding='same')(c2)\n",
    "    p2 = MaxPooling2D((2,2))(c2)\n",
    "\n",
    "    c3 = Conv2D(256, (3,3), activation='relu', padding='same')(p2)\n",
    "    c3 = Conv2D(256, (3,3), activation='relu', padding='same')(c3)\n",
    "    p3 = MaxPooling2D((2,2))(c3)\n",
    "\n",
    "    # Bottleneck\n",
    "    c4 = Conv2D(512, (3,3), activation='relu', padding='same')(p3)\n",
    "    c4 = Conv2D(512, (3,3), activation='relu', padding='same')(c4)\n",
    "\n",
    "    # Decoder\n",
    "    u5 = Conv2DTranspose(256, (2,2), strides=(2,2), padding='same')(c4)\n",
    "    u5 = concatenate([u5, c3])\n",
    "    c5 = Conv2D(256, (3,3), activation='relu', padding='same')(u5)\n",
    "    c5 = Conv2D(256, (3,3), activation='relu', padding='same')(c5)\n",
    "\n",
    "    u6 = Conv2DTranspose(128, (2,2), strides=(2,2), padding='same')(c5)\n",
    "    u6 = concatenate([u6, c2])\n",
    "    c6 = Conv2D(128, (3,3), activation='relu', padding='same')(u6)\n",
    "    c6 = Conv2D(128, (3,3), activation='relu', padding='same')(c6)\n",
    "\n",
    "    u7 = Conv2DTranspose(64, (2,2), strides=(2,2), padding='same')(c6)\n",
    "    u7 = concatenate([u7, c1])\n",
    "    c7 = Conv2D(64, (3,3), activation='relu', padding='same')(u7)\n",
    "    c7 = Conv2D(64, (3,3), activation='relu', padding='same')(c7)\n",
    "\n",
    "    outputs = Conv2D(num_classes, (1,1), activation='softmax')(c7)  # Multiclass segmentation output\n",
    "    model = Model(inputs, outputs)\n",
    "    return model\n",
    "\n"
   ]
  },
  {
   "cell_type": "code",
   "execution_count": 19,
   "metadata": {},
   "outputs": [
    {
     "name": "stdout",
     "output_type": "stream",
     "text": [
      "Model: \"model_3\"\n",
      "__________________________________________________________________________________________________\n",
      " Layer (type)                   Output Shape         Param #     Connected to                     \n",
      "==================================================================================================\n",
      " input_4 (InputLayer)           [(None, 256, 256, 6  0           []                               \n",
      "                                )]                                                                \n",
      "                                                                                                  \n",
      " conv2d_45 (Conv2D)             (None, 256, 256, 64  3520        ['input_4[0][0]']                \n",
      "                                )                                                                 \n",
      "                                                                                                  \n",
      " conv2d_46 (Conv2D)             (None, 256, 256, 64  36928       ['conv2d_45[0][0]']              \n",
      "                                )                                                                 \n",
      "                                                                                                  \n",
      " max_pooling2d_9 (MaxPooling2D)  (None, 128, 128, 64  0          ['conv2d_46[0][0]']              \n",
      "                                )                                                                 \n",
      "                                                                                                  \n",
      " conv2d_47 (Conv2D)             (None, 128, 128, 12  73856       ['max_pooling2d_9[0][0]']        \n",
      "                                8)                                                                \n",
      "                                                                                                  \n",
      " conv2d_48 (Conv2D)             (None, 128, 128, 12  147584      ['conv2d_47[0][0]']              \n",
      "                                8)                                                                \n",
      "                                                                                                  \n",
      " max_pooling2d_10 (MaxPooling2D  (None, 64, 64, 128)  0          ['conv2d_48[0][0]']              \n",
      " )                                                                                                \n",
      "                                                                                                  \n",
      " conv2d_49 (Conv2D)             (None, 64, 64, 256)  295168      ['max_pooling2d_10[0][0]']       \n",
      "                                                                                                  \n",
      " conv2d_50 (Conv2D)             (None, 64, 64, 256)  590080      ['conv2d_49[0][0]']              \n",
      "                                                                                                  \n",
      " max_pooling2d_11 (MaxPooling2D  (None, 32, 32, 256)  0          ['conv2d_50[0][0]']              \n",
      " )                                                                                                \n",
      "                                                                                                  \n",
      " conv2d_51 (Conv2D)             (None, 32, 32, 512)  1180160     ['max_pooling2d_11[0][0]']       \n",
      "                                                                                                  \n",
      " conv2d_52 (Conv2D)             (None, 32, 32, 512)  2359808     ['conv2d_51[0][0]']              \n",
      "                                                                                                  \n",
      " conv2d_transpose_9 (Conv2DTran  (None, 64, 64, 256)  524544     ['conv2d_52[0][0]']              \n",
      " spose)                                                                                           \n",
      "                                                                                                  \n",
      " concatenate_9 (Concatenate)    (None, 64, 64, 512)  0           ['conv2d_transpose_9[0][0]',     \n",
      "                                                                  'conv2d_50[0][0]']              \n",
      "                                                                                                  \n",
      " conv2d_53 (Conv2D)             (None, 64, 64, 256)  1179904     ['concatenate_9[0][0]']          \n",
      "                                                                                                  \n",
      " conv2d_54 (Conv2D)             (None, 64, 64, 256)  590080      ['conv2d_53[0][0]']              \n",
      "                                                                                                  \n",
      " conv2d_transpose_10 (Conv2DTra  (None, 128, 128, 12  131200     ['conv2d_54[0][0]']              \n",
      " nspose)                        8)                                                                \n",
      "                                                                                                  \n",
      " concatenate_10 (Concatenate)   (None, 128, 128, 25  0           ['conv2d_transpose_10[0][0]',    \n",
      "                                6)                                'conv2d_48[0][0]']              \n",
      "                                                                                                  \n",
      " conv2d_55 (Conv2D)             (None, 128, 128, 12  295040      ['concatenate_10[0][0]']         \n",
      "                                8)                                                                \n",
      "                                                                                                  \n",
      " conv2d_56 (Conv2D)             (None, 128, 128, 12  147584      ['conv2d_55[0][0]']              \n",
      "                                8)                                                                \n",
      "                                                                                                  \n",
      " conv2d_transpose_11 (Conv2DTra  (None, 256, 256, 64  32832      ['conv2d_56[0][0]']              \n",
      " nspose)                        )                                                                 \n",
      "                                                                                                  \n",
      " concatenate_11 (Concatenate)   (None, 256, 256, 12  0           ['conv2d_transpose_11[0][0]',    \n",
      "                                8)                                'conv2d_46[0][0]']              \n",
      "                                                                                                  \n",
      " conv2d_57 (Conv2D)             (None, 256, 256, 64  73792       ['concatenate_11[0][0]']         \n",
      "                                )                                                                 \n",
      "                                                                                                  \n",
      " conv2d_58 (Conv2D)             (None, 256, 256, 64  36928       ['conv2d_57[0][0]']              \n",
      "                                )                                                                 \n",
      "                                                                                                  \n",
      " conv2d_59 (Conv2D)             (None, 256, 256, 5)  325         ['conv2d_58[0][0]']              \n",
      "                                                                                                  \n",
      "==================================================================================================\n",
      "Total params: 7,699,333\n",
      "Trainable params: 7,699,333\n",
      "Non-trainable params: 0\n",
      "__________________________________________________________________________________________________\n",
      "None\n"
     ]
    }
   ],
   "source": [
    "# Load the model\n",
    "model = unet_model() \n",
    "model.load_weights(\"../models/unet_v8_multiclass_epoch_20.weights.h5\")\n",
    "print(model.summary())"
   ]
  },
  {
   "cell_type": "code",
   "execution_count": 21,
   "metadata": {},
   "outputs": [
    {
     "name": "stderr",
     "output_type": "stream",
     "text": [
      "2025-04-05 16:45:59.341062: I tensorflow/core/kernels/data/shuffle_dataset_op.cc:390] Filling up shuffle buffer (this may take a while): 260 of 2799\n",
      "2025-04-05 16:46:09.309364: I tensorflow/core/kernels/data/shuffle_dataset_op.cc:390] Filling up shuffle buffer (this may take a while): 503 of 2799\n",
      "2025-04-05 16:46:19.314904: I tensorflow/core/kernels/data/shuffle_dataset_op.cc:390] Filling up shuffle buffer (this may take a while): 748 of 2799\n",
      "2025-04-05 16:46:26.708791: I tensorflow/core/kernels/data/shuffle_dataset_op.cc:415] Shuffle buffer filled.\n"
     ]
    }
   ],
   "source": [
    "\n",
    "for test_images, test_masks in test_dataset.take(1):  \n",
    "    image = test_images[1, :, :, :]  # First image (All 6 channels)\n",
    "    mask = test_masks[1, :, :, :]  # First mask (grayscale)\n"
   ]
  },
  {
   "cell_type": "code",
   "execution_count": 20,
   "metadata": {},
   "outputs": [
    {
     "ename": "NameError",
     "evalue": "name 'test_images' is not defined",
     "output_type": "error",
     "traceback": [
      "\u001b[0;31m---------------------------------------------------------------------------\u001b[0m",
      "\u001b[0;31mNameError\u001b[0m                                 Traceback (most recent call last)",
      "Cell \u001b[0;32mIn [20], line 3\u001b[0m\n\u001b[1;32m      1\u001b[0m imno \u001b[38;5;241m=\u001b[39m \u001b[38;5;241m7\u001b[39m\n\u001b[0;32m----> 3\u001b[0m b1 \u001b[38;5;241m=\u001b[39m \u001b[43mtest_images\u001b[49m[imno, :, :, :\u001b[38;5;241m3\u001b[39m]  \u001b[38;5;66;03m# Take the first image\u001b[39;00m\n\u001b[1;32m      4\u001b[0m b2 \u001b[38;5;241m=\u001b[39m test_images[imno, :, :, \u001b[38;5;241m3\u001b[39m:]  \u001b[38;5;66;03m# Take the second image\u001b[39;00m\n\u001b[1;32m      5\u001b[0m a \u001b[38;5;241m=\u001b[39m model\u001b[38;5;241m.\u001b[39mpredict(test_images[:, :, :, :])  \u001b[38;5;66;03m# Predict on the first image\u001b[39;00m\n",
      "\u001b[0;31mNameError\u001b[0m: name 'test_images' is not defined"
     ]
    }
   ],
   "source": [
    "imno = 7\n",
    "\n",
    "b1 = test_images[imno, :, :, :3]  # Take the first image\n",
    "b2 = test_images[imno, :, :, 3:]  # Take the second image\n",
    "a = model.predict(test_images[:, :, :, :])  # Predict on the first image\n",
    "a = a[imno, :, :, :]  # Take the first channel (background)\n",
    "c = test_masks[imno, :, :, :]  # Take the first mask (grayscale)\n"
   ]
  },
  {
   "cell_type": "code",
   "execution_count": null,
   "metadata": {},
   "outputs": [],
   "source": []
  }
 ],
 "metadata": {
  "kernelspec": {
   "display_name": "Artefact",
   "language": "python",
   "name": "python3"
  },
  "language_info": {
   "codemirror_mode": {
    "name": "ipython",
    "version": 3
   },
   "file_extension": ".py",
   "mimetype": "text/x-python",
   "name": "python",
   "nbconvert_exporter": "python",
   "pygments_lexer": "ipython3",
   "version": "3.10.12"
  }
 },
 "nbformat": 4,
 "nbformat_minor": 2
}
