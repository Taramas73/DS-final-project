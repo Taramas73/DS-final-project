{
 "cells": [
  {
   "cell_type": "code",
   "execution_count": 1,
   "metadata": {},
   "outputs": [],
   "source": [
    "import json, datetime\n",
    "from os import listdir, path\n",
    "import pandas as pd"
   ]
  },
  {
   "cell_type": "markdown",
   "metadata": {},
   "source": [
    "The cell below is meant to look at the building transform json file for the whole dataset provided on the xView2 website with the following information:\n",
    "\n",
    ">Building Transforms from XBD\n",
    ">If you are looking for mapping information related to the XBD dataset, use the link below. This download doesn't contain any of the images, just metadata around the location of the image and its origin.\n",
    "\n",
    "It is not used in the rest of this notebook."
   ]
  },
  {
   "cell_type": "code",
   "execution_count": null,
   "metadata": {},
   "outputs": [],
   "source": [
    "with open(path.join('dataset', 'xview_geotransforms.json')) as f:\n",
    "    global_data_info = json.load(f)\n",
    "global_data_info"
   ]
  },
  {
   "cell_type": "code",
   "execution_count": 4,
   "metadata": {},
   "outputs": [],
   "source": [
    "json_path = path.join('dataset', 'train', 'labels')"
   ]
  },
  {
   "cell_type": "code",
   "execution_count": 5,
   "metadata": {},
   "outputs": [
    {
     "data": {
      "text/plain": [
       "5598"
      ]
     },
     "execution_count": 5,
     "metadata": {},
     "output_type": "execute_result"
    }
   ],
   "source": [
    "len([f for f in listdir(json_path) if path.isfile(path.join(json_path, f))])"
   ]
  },
  {
   "cell_type": "markdown",
   "metadata": {},
   "source": [
    "Liste de features à compter / stocker :\n",
    "* feature types\n",
    "* A set of coords\n",
    "* date\n",
    "* disaster_type\n",
    "* disaster"
   ]
  },
  {
   "cell_type": "code",
   "execution_count": 6,
   "metadata": {},
   "outputs": [],
   "source": [
    "disaster_data = {\n",
    "    'disaster' : [],\n",
    "    'disaster_type' : [],\n",
    "    'date' : [],\n",
    "    'lgt' : [],\n",
    "    'lat' : [],\n",
    "    'severity' : [],\n",
    "    'highest_severity' : [],\n",
    "    'moment' : [], \n",
    "    'file' : []\n",
    "}\n",
    "\n",
    "features = []\n",
    "subtypes = []\n",
    "\n",
    "severity_grade = {'destroyed': 3,\n",
    "  'major-damage': 2,\n",
    "  'minor-damage': 1,\n",
    "  'no-damage': 0,\n",
    "  'un-classified': 0}"
   ]
  },
  {
   "cell_type": "code",
   "execution_count": 7,
   "metadata": {},
   "outputs": [
    {
     "data": {
      "text/html": [
       "<div>\n",
       "<style scoped>\n",
       "    .dataframe tbody tr th:only-of-type {\n",
       "        vertical-align: middle;\n",
       "    }\n",
       "\n",
       "    .dataframe tbody tr th {\n",
       "        vertical-align: top;\n",
       "    }\n",
       "\n",
       "    .dataframe thead th {\n",
       "        text-align: right;\n",
       "    }\n",
       "</style>\n",
       "<table border=\"1\" class=\"dataframe\">\n",
       "  <thead>\n",
       "    <tr style=\"text-align: right;\">\n",
       "      <th></th>\n",
       "      <th>disaster</th>\n",
       "      <th>disaster_type</th>\n",
       "      <th>date</th>\n",
       "      <th>lgt</th>\n",
       "      <th>lat</th>\n",
       "      <th>severity</th>\n",
       "      <th>highest_severity</th>\n",
       "      <th>moment</th>\n",
       "      <th>file</th>\n",
       "    </tr>\n",
       "  </thead>\n",
       "  <tbody>\n",
       "    <tr>\n",
       "      <th>0</th>\n",
       "      <td>socal-fire</td>\n",
       "      <td>fire</td>\n",
       "      <td>2018-11-14 18:42:58</td>\n",
       "      <td>-118.737523</td>\n",
       "      <td>34.147230</td>\n",
       "      <td>1</td>\n",
       "      <td>no-damage</td>\n",
       "      <td>post</td>\n",
       "      <td>socal-fire_00000986_post_disaster.json</td>\n",
       "    </tr>\n",
       "    <tr>\n",
       "      <th>1</th>\n",
       "      <td>hurricane-florence</td>\n",
       "      <td>flooding</td>\n",
       "      <td>2018-04-06 15:49:36</td>\n",
       "      <td>-77.943453</td>\n",
       "      <td>34.758699</td>\n",
       "      <td>1</td>\n",
       "      <td>Unknown</td>\n",
       "      <td>pre</td>\n",
       "      <td>hurricane-florence_00000398_pre_disaster.json</td>\n",
       "    </tr>\n",
       "    <tr>\n",
       "      <th>2</th>\n",
       "      <td>hurricane-florence</td>\n",
       "      <td>flooding</td>\n",
       "      <td>2018-09-20 16:04:41</td>\n",
       "      <td>-77.884941</td>\n",
       "      <td>34.789438</td>\n",
       "      <td>41</td>\n",
       "      <td>major-damage</td>\n",
       "      <td>post</td>\n",
       "      <td>hurricane-florence_00000395_post_disaster.json</td>\n",
       "    </tr>\n",
       "    <tr>\n",
       "      <th>3</th>\n",
       "      <td>hurricane-matthew</td>\n",
       "      <td>wind</td>\n",
       "      <td>2016-10-10 16:04:56</td>\n",
       "      <td>NaN</td>\n",
       "      <td>NaN</td>\n",
       "      <td>1</td>\n",
       "      <td>Unknown</td>\n",
       "      <td>post</td>\n",
       "      <td>hurricane-matthew_00000239_post_disaster.json</td>\n",
       "    </tr>\n",
       "    <tr>\n",
       "      <th>4</th>\n",
       "      <td>santa-rosa-wildfire</td>\n",
       "      <td>fire</td>\n",
       "      <td>2017-05-21 19:19:19</td>\n",
       "      <td>-122.676137</td>\n",
       "      <td>38.533348</td>\n",
       "      <td>1</td>\n",
       "      <td>Unknown</td>\n",
       "      <td>pre</td>\n",
       "      <td>santa-rosa-wildfire_00000300_pre_disaster.json</td>\n",
       "    </tr>\n",
       "  </tbody>\n",
       "</table>\n",
       "</div>"
      ],
      "text/plain": [
       "              disaster disaster_type                date         lgt  \\\n",
       "0           socal-fire          fire 2018-11-14 18:42:58 -118.737523   \n",
       "1   hurricane-florence      flooding 2018-04-06 15:49:36  -77.943453   \n",
       "2   hurricane-florence      flooding 2018-09-20 16:04:41  -77.884941   \n",
       "3    hurricane-matthew          wind 2016-10-10 16:04:56         NaN   \n",
       "4  santa-rosa-wildfire          fire 2017-05-21 19:19:19 -122.676137   \n",
       "\n",
       "         lat  severity highest_severity moment  \\\n",
       "0  34.147230         1        no-damage   post   \n",
       "1  34.758699         1          Unknown    pre   \n",
       "2  34.789438        41     major-damage   post   \n",
       "3        NaN         1          Unknown   post   \n",
       "4  38.533348         1          Unknown    pre   \n",
       "\n",
       "                                             file  \n",
       "0          socal-fire_00000986_post_disaster.json  \n",
       "1   hurricane-florence_00000398_pre_disaster.json  \n",
       "2  hurricane-florence_00000395_post_disaster.json  \n",
       "3   hurricane-matthew_00000239_post_disaster.json  \n",
       "4  santa-rosa-wildfire_00000300_pre_disaster.json  "
      ]
     },
     "execution_count": 7,
     "metadata": {},
     "output_type": "execute_result"
    }
   ],
   "source": [
    "for file in [f for f in listdir(json_path) if path.isfile(path.join(json_path, f))]:\n",
    "    severity = 1\n",
    "    severity_label = ''\n",
    "    with open(path.join(json_path, file)) as fi:\n",
    "        file_data = json.load(fi)\n",
    "        disaster_data['disaster'].append(file_data['metadata']['disaster'])\n",
    "        disaster_data['disaster_type'].append(file_data['metadata']['disaster_type'])\n",
    "        disaster_data['date'].append(datetime.datetime.strptime(file_data['metadata']['capture_date'].split('.')[0], '%Y-%m-%dT%H:%M:%S'))\n",
    "        if (len(file_data['features']['lng_lat']) > 0):\n",
    "            lgt = file_data['features']['lng_lat'][0]['wkt'].split(\" \")[1].replace(\"((\", \"\")\n",
    "            lat = file_data['features']['lng_lat'][0]['wkt'].split(\" \")[2].replace(\",\", \"\")\n",
    "            disaster_data['lgt'].append(float(lgt))\n",
    "            disaster_data['lat'].append(float(lat))\n",
    "            for feature in file_data['features']['lng_lat']:\n",
    "                features.append(feature['properties']['feature_type'])\n",
    "                if 'subtype' in feature['properties'].keys():\n",
    "                    subtypes.append(feature['properties']['subtype'])\n",
    "                    severity += severity_grade[feature['properties']['subtype']]\n",
    "                    if severity_label == '':\n",
    "                        severity_label = feature['properties']['subtype']\n",
    "                    elif severity_grade[feature['properties']['subtype']] > severity_grade[severity_label]:\n",
    "                        severity_label = feature['properties']['subtype']\n",
    "                else:\n",
    "                    subtypes.append(None)\n",
    "        else:\n",
    "            disaster_data['lgt'].append(None)\n",
    "            disaster_data['lat'].append(None)\n",
    "        disaster_data['severity'].append(severity)\n",
    "        if severity_label == '':\n",
    "            disaster_data['highest_severity'].append('Unknown')\n",
    "        else:\n",
    "            disaster_data['highest_severity'].append(severity_label)\n",
    "        if '_pre_' in file:\n",
    "            disaster_data['moment'].append('pre')\n",
    "        else:\n",
    "            disaster_data['moment'].append('post')\n",
    "        disaster_data['file'].append(file)\n",
    "\n",
    "feature_set = set(features)\n",
    "subtype_set = set(subtypes)\n",
    "df = pd.DataFrame(disaster_data)\n",
    "df.head()"
   ]
  },
  {
   "cell_type": "code",
   "execution_count": 8,
   "metadata": {},
   "outputs": [
    {
     "data": {
      "text/plain": [
       "({'building'},\n",
       " {None,\n",
       "  'destroyed',\n",
       "  'major-damage',\n",
       "  'minor-damage',\n",
       "  'no-damage',\n",
       "  'un-classified'})"
      ]
     },
     "execution_count": 8,
     "metadata": {},
     "output_type": "execute_result"
    }
   ],
   "source": [
    "feature_set, subtype_set"
   ]
  },
  {
   "cell_type": "code",
   "execution_count": 9,
   "metadata": {},
   "outputs": [
    {
     "name": "stdout",
     "output_type": "stream",
     "text": [
      "<class 'pandas.core.frame.DataFrame'>\n",
      "RangeIndex: 5598 entries, 0 to 5597\n",
      "Data columns (total 9 columns):\n",
      " #   Column            Non-Null Count  Dtype         \n",
      "---  ------            --------------  -----         \n",
      " 0   disaster          5598 non-null   object        \n",
      " 1   disaster_type     5598 non-null   object        \n",
      " 2   date              5598 non-null   datetime64[ns]\n",
      " 3   lgt               4566 non-null   float64       \n",
      " 4   lat               4566 non-null   float64       \n",
      " 5   severity          5598 non-null   int64         \n",
      " 6   highest_severity  5598 non-null   object        \n",
      " 7   moment            5598 non-null   object        \n",
      " 8   file              5598 non-null   object        \n",
      "dtypes: datetime64[ns](1), float64(2), int64(1), object(5)\n",
      "memory usage: 393.7+ KB\n"
     ]
    }
   ],
   "source": [
    "df.info()"
   ]
  },
  {
   "cell_type": "code",
   "execution_count": 10,
   "metadata": {},
   "outputs": [
    {
     "data": {
      "text/plain": [
       "disaster\n",
       "socal-fire             1646\n",
       "hurricane-michael       686\n",
       "hurricane-florence      638\n",
       "hurricane-harvey        638\n",
       "midwest-flooding        558\n",
       "hurricane-matthew       476\n",
       "santa-rosa-wildfire     452\n",
       "mexico-earthquake       242\n",
       "palu-tsunami            226\n",
       "guatemala-volcano        36\n",
       "Name: count, dtype: int64"
      ]
     },
     "execution_count": 10,
     "metadata": {},
     "output_type": "execute_result"
    }
   ],
   "source": [
    "df.disaster.value_counts()"
   ]
  },
  {
   "cell_type": "code",
   "execution_count": 11,
   "metadata": {},
   "outputs": [
    {
     "data": {
      "text/plain": [
       "disaster\n",
       "socal-fire             830\n",
       "midwest-flooding        70\n",
       "hurricane-harvey        38\n",
       "hurricane-matthew       30\n",
       "hurricane-florence      26\n",
       "hurricane-michael       18\n",
       "santa-rosa-wildfire     14\n",
       "palu-tsunami             4\n",
       "guatemala-volcano        2\n",
       "Name: count, dtype: int64"
      ]
     },
     "execution_count": 11,
     "metadata": {},
     "output_type": "execute_result"
    }
   ],
   "source": [
    "df[df['lgt'].isna()]['disaster'].value_counts()"
   ]
  },
  {
   "cell_type": "code",
   "execution_count": 12,
   "metadata": {},
   "outputs": [],
   "source": [
    "import plotly.express as px"
   ]
  },
  {
   "cell_type": "code",
   "execution_count": null,
   "metadata": {},
   "outputs": [],
   "source": [
    "fig = px.scatter_geo(data_frame=df.dropna(), \n",
    "                     lat=df['lat'],\n",
    "                     lon=df['lgt'],\n",
    "                     color=df['disaster_type'],\n",
    "                     projection='equirectangular', \n",
    "                     hover_name=df['disaster'],\n",
    "                     size=df['severity'], \n",
    "                     animation_frame=df['moment'],\n",
    "                     width=1500, height=768)\n",
    "\n",
    "fig.show()"
   ]
  },
  {
   "cell_type": "code",
   "execution_count": 14,
   "metadata": {},
   "outputs": [],
   "source": [
    "import random\n",
    "import matplotlib.pyplot as plt\n",
    "from matplotlib.gridspec import GridSpec"
   ]
  },
  {
   "cell_type": "code",
   "execution_count": 15,
   "metadata": {},
   "outputs": [],
   "source": [
    "def four_images(file:str, json_path:str):\n",
    "    img = file.replace('_pre', '').replace('_post', '').replace('_disaster.json', '')\n",
    "    img_path = json_path.replace('labels', 'images')\n",
    "    target_path = json_path.replace('labels', 'targets')\n",
    "    pre_img = path.join(img_path, img + '_pre_disaster.png')\n",
    "    post_img = path.join(img_path, img + '_post_disaster.png')\n",
    "    pre_target = path.join(target_path, img + '_pre_disaster_target.png')\n",
    "    post_target = path.join(target_path, img + '_post_disaster_target.png')\n",
    "    return pre_img, post_img, pre_target, post_target\n",
    "        "
   ]
  },
  {
   "cell_type": "code",
   "execution_count": null,
   "metadata": {},
   "outputs": [],
   "source": [
    "rand_file = random.choice([f for f in listdir(json_path) if path.isfile(path.join(json_path, f))])\n",
    "\n",
    "plt.figure(figsize=(15, 15))\n",
    "plt.subplot(2, 2, 1)\n",
    "plt.imshow(plt.imread(four_images(rand_file, json_path)[0]))\n",
    "plt.axis('off')\n",
    "plt.title('pre image')\n",
    "plt.subplot(2, 2, 2)\n",
    "plt.imshow(plt.imread(four_images(rand_file, json_path)[1]))\n",
    "plt.axis('off')\n",
    "plt.title('post image')\n",
    "plt.subplot(2, 2, 3)\n",
    "plt.imshow(plt.imread(four_images(rand_file, json_path)[2]))\n",
    "plt.axis('off')\n",
    "plt.title('pre target')\n",
    "plt.subplot(2, 2, 4)\n",
    "plt.imshow(plt.imread(four_images(rand_file, json_path)[3]))\n",
    "plt.axis('off')\n",
    "plt.title('post target')\n",
    "plt.show()\n",
    "\n",
    "df[df['file'] == rand_file]"
   ]
  },
  {
   "cell_type": "code",
   "execution_count": 17,
   "metadata": {},
   "outputs": [
    {
     "name": "stdout",
     "output_type": "stream",
     "text": [
      "<class 'pandas.core.frame.DataFrame'>\n",
      "RangeIndex: 5598 entries, 0 to 5597\n",
      "Data columns (total 9 columns):\n",
      " #   Column            Non-Null Count  Dtype         \n",
      "---  ------            --------------  -----         \n",
      " 0   disaster          5598 non-null   object        \n",
      " 1   disaster_type     5598 non-null   object        \n",
      " 2   date              5598 non-null   datetime64[ns]\n",
      " 3   lgt               4566 non-null   float64       \n",
      " 4   lat               4566 non-null   float64       \n",
      " 5   severity          5598 non-null   int64         \n",
      " 6   highest_severity  5598 non-null   object        \n",
      " 7   moment            5598 non-null   object        \n",
      " 8   file              5598 non-null   object        \n",
      "dtypes: datetime64[ns](1), float64(2), int64(1), object(5)\n",
      "memory usage: 393.7+ KB\n"
     ]
    }
   ],
   "source": [
    "df.info()"
   ]
  },
  {
   "cell_type": "code",
   "execution_count": null,
   "metadata": {},
   "outputs": [],
   "source": [
    "plt.figure(figsize=(20, 20))\n",
    "plt.subplot(1, 2, 1)\n",
    "plt.pie(df['disaster_type'].value_counts(), labels=df['disaster_type'].value_counts().index)\n",
    "plt.title('Disaster repartition')\n",
    "plt.subplot(1, 2, 2)\n",
    "plt.pie(df['highest_severity'].value_counts(), labels=df['highest_severity'].value_counts().index)\n",
    "plt.title('Highest severity')\n",
    "plt.show()\n",
    "\n"
   ]
  }
 ],
 "metadata": {
  "kernelspec": {
   "display_name": "Artefact",
   "language": "python",
   "name": "python3"
  },
  "language_info": {
   "codemirror_mode": {
    "name": "ipython",
    "version": 3
   },
   "file_extension": ".py",
   "mimetype": "text/x-python",
   "name": "python",
   "nbconvert_exporter": "python",
   "pygments_lexer": "ipython3",
   "version": "3.10.12"
  }
 },
 "nbformat": 4,
 "nbformat_minor": 2
}
